{
 "cells": [
  {
   "cell_type": "markdown",
   "metadata": {
    "colab_type": "text",
    "id": "ivTXbbGOeXKA"
   },
   "source": [
    "# 列表 List"
   ]
  },
  {
   "cell_type": "code",
   "execution_count": 0,
   "metadata": {
    "colab": {
     "base_uri": "https://localhost:8080/",
     "height": 35
    },
    "colab_type": "code",
    "executionInfo": {
     "elapsed": 727,
     "status": "ok",
     "timestamp": 1567704646351,
     "user": {
      "displayName": "Enoch Zheng",
      "photoUrl": "https://lh3.googleusercontent.com/a-/AAuE7mA7X97uI5sqYJ_AXshX-DouAmX17HIJK0XLP4CTPA=s64",
      "userId": "11058386346986323870"
     },
     "user_tz": 420
    },
    "id": "pzQ_An4FeN0S",
    "outputId": "958c7bad-bed7-4bf4-d3ca-24c967cfe134"
   },
   "outputs": [
    {
     "name": "stdout",
     "output_type": "stream",
     "text": [
      "7\n"
     ]
    }
   ],
   "source": [
    "# 列表的创建\n",
    "letters = ['a', 'b', 'c', 'd', 'e', 'f', 'g']\n",
    "list = list(('a', 'b', 'c'))\n",
    "print(len(letters))"
   ]
  },
  {
   "cell_type": "code",
   "execution_count": 0,
   "metadata": {
    "colab": {
     "base_uri": "https://localhost:8080/",
     "height": 35
    },
    "colab_type": "code",
    "executionInfo": {
     "elapsed": 426,
     "status": "ok",
     "timestamp": 1567704649254,
     "user": {
      "displayName": "Enoch Zheng",
      "photoUrl": "https://lh3.googleusercontent.com/a-/AAuE7mA7X97uI5sqYJ_AXshX-DouAmX17HIJK0XLP4CTPA=s64",
      "userId": "11058386346986323870"
     },
     "user_tz": 420
    },
    "id": "2Ii3C0_2efSa",
    "outputId": "a93ee745-d1ee-4363-d893-d8dcef061e10"
   },
   "outputs": [
    {
     "name": "stdout",
     "output_type": "stream",
     "text": [
      "['c', 'd', 'e']\n"
     ]
    }
   ],
   "source": [
    "# 列表的读取和更新\n",
    "letters = ['a', 'b', 'c', 'd', 'e', 'f', 'g']\n",
    "print(letters[2:5])"
   ]
  },
  {
   "cell_type": "code",
   "execution_count": 0,
   "metadata": {
    "colab": {
     "base_uri": "https://localhost:8080/",
     "height": 165
    },
    "colab_type": "code",
    "executionInfo": {
     "elapsed": 346,
     "status": "error",
     "timestamp": 1567704652631,
     "user": {
      "displayName": "Enoch Zheng",
      "photoUrl": "https://lh3.googleusercontent.com/a-/AAuE7mA7X97uI5sqYJ_AXshX-DouAmX17HIJK0XLP4CTPA=s64",
      "userId": "11058386346986323870"
     },
     "user_tz": 420
    },
    "id": "b-OCmqZFelpx",
    "outputId": "3c68ace9-8e2c-4c8e-fead-2a90a7bbb0af"
   },
   "outputs": [
    {
     "ename": "IndexError",
     "evalue": "ignored",
     "output_type": "error",
     "traceback": [
      "\u001b[0;31m---------------------------------------------------------------------------\u001b[0m",
      "\u001b[0;31mIndexError\u001b[0m                                Traceback (most recent call last)",
      "\u001b[0;32m<ipython-input-3-b204bec115ed>\u001b[0m in \u001b[0;36m<module>\u001b[0;34m()\u001b[0m\n\u001b[0;32m----> 1\u001b[0;31m \u001b[0mprint\u001b[0m\u001b[0;34m(\u001b[0m\u001b[0mletters\u001b[0m\u001b[0;34m[\u001b[0m\u001b[0;36m10\u001b[0m\u001b[0;34m]\u001b[0m\u001b[0;34m)\u001b[0m \u001b[0;31m# list index out of range error\u001b[0m\u001b[0;34m\u001b[0m\u001b[0;34m\u001b[0m\u001b[0m\n\u001b[0m",
      "\u001b[0;31mIndexError\u001b[0m: list index out of range"
     ]
    }
   ],
   "source": [
    "print(letters[10]) # list index out of range error"
   ]
  },
  {
   "cell_type": "code",
   "execution_count": 0,
   "metadata": {
    "colab": {
     "base_uri": "https://localhost:8080/",
     "height": 52
    },
    "colab_type": "code",
    "executionInfo": {
     "elapsed": 437,
     "status": "ok",
     "timestamp": 1567704655052,
     "user": {
      "displayName": "Enoch Zheng",
      "photoUrl": "https://lh3.googleusercontent.com/a-/AAuE7mA7X97uI5sqYJ_AXshX-DouAmX17HIJK0XLP4CTPA=s64",
      "userId": "11058386346986323870"
     },
     "user_tz": 420
    },
    "id": "XksLF3T5ekRz",
    "outputId": "73da3a45-f1b0-4ecd-c2d1-b33f7c714023"
   },
   "outputs": [
    {
     "name": "stdout",
     "output_type": "stream",
     "text": [
      "2019\n",
      "letter 'a' is in the list\n"
     ]
    }
   ],
   "source": [
    "letters[-2] = 2019\n",
    "print(letters[-2])\n",
    "if 'a' in letters:\n",
    "    print(\"letter 'a' is in the list\")"
   ]
  },
  {
   "cell_type": "code",
   "execution_count": 0,
   "metadata": {
    "colab": {},
    "colab_type": "code",
    "id": "ENgbsloFesg6"
   },
   "outputs": [],
   "source": [
    "# 列表的增加和删除"
   ]
  },
  {
   "cell_type": "code",
   "execution_count": 0,
   "metadata": {
    "colab": {
     "base_uri": "https://localhost:8080/",
     "height": 69
    },
    "colab_type": "code",
    "executionInfo": {
     "elapsed": 339,
     "status": "ok",
     "timestamp": 1567704711680,
     "user": {
      "displayName": "Enoch Zheng",
      "photoUrl": "https://lh3.googleusercontent.com/a-/AAuE7mA7X97uI5sqYJ_AXshX-DouAmX17HIJK0XLP4CTPA=s64",
      "userId": "11058386346986323870"
     },
     "user_tz": 420
    },
    "id": "VeAxINEuewLH",
    "outputId": "0df0ca91-eff9-4128-e4c0-0ea95998685c"
   },
   "outputs": [
    {
     "name": "stdout",
     "output_type": "stream",
     "text": [
      "['apple', 'orange']\n",
      "['orange']\n",
      "[1, 2, 4, 5]\n"
     ]
    }
   ],
   "source": [
    "list = ['apple']\n",
    "list.insert(1, 'orange')\n",
    "print(list)\n",
    "list.remove('apple')\n",
    "list2 = list.copy()\n",
    "print(list2)\n",
    "list = [1, 2, 3, 4, 5]\n",
    "del list[2]\n",
    "print(list)"
   ]
  },
  {
   "cell_type": "code",
   "execution_count": 0,
   "metadata": {
    "colab": {},
    "colab_type": "code",
    "id": "1oiTjZqDfJhN"
   },
   "outputs": [],
   "source": [
    "# 列表的运算"
   ]
  },
  {
   "cell_type": "code",
   "execution_count": 0,
   "metadata": {
    "colab": {
     "base_uri": "https://localhost:8080/",
     "height": 52
    },
    "colab_type": "code",
    "executionInfo": {
     "elapsed": 606,
     "status": "ok",
     "timestamp": 1567704814340,
     "user": {
      "displayName": "Enoch Zheng",
      "photoUrl": "https://lh3.googleusercontent.com/a-/AAuE7mA7X97uI5sqYJ_AXshX-DouAmX17HIJK0XLP4CTPA=s64",
      "userId": "11058386346986323870"
     },
     "user_tz": 420
    },
    "id": "YFdrqghtfL9W",
    "outputId": "ee583ca0-9d1b-4d22-d690-83d57588a595"
   },
   "outputs": [
    {
     "name": "stdout",
     "output_type": "stream",
     "text": [
      "[1, 2, 3, 4, 5, 6]\n",
      "[1, 2, 3, 1, 2, 3, 1, 2, 3]\n"
     ]
    }
   ],
   "source": [
    "list1, list2 = [1, 2, 3], [4, 5, 6]\n",
    "print(list1 + list2)\n",
    "print(list1 * 3)"
   ]
  },
  {
   "cell_type": "code",
   "execution_count": 0,
   "metadata": {
    "colab": {
     "base_uri": "https://localhost:8080/",
     "height": 69
    },
    "colab_type": "code",
    "executionInfo": {
     "elapsed": 342,
     "status": "ok",
     "timestamp": 1567704905816,
     "user": {
      "displayName": "Enoch Zheng",
      "photoUrl": "https://lh3.googleusercontent.com/a-/AAuE7mA7X97uI5sqYJ_AXshX-DouAmX17HIJK0XLP4CTPA=s64",
      "userId": "11058386346986323870"
     },
     "user_tz": 420
    },
    "id": "h4qsu--UfV_J",
    "outputId": "dd7f6072-82ad-4194-d41b-43e7d07b5e33"
   },
   "outputs": [
    {
     "name": "stdout",
     "output_type": "stream",
     "text": [
      "['a', 'g', 'f', 'b', 'c', 'd', 'e']\n",
      "['a', 'b', 'c', 'd', 'e', 'f', 'g']\n",
      "['g', 'f', 'e', 'd', 'c', 'b', 'a']\n"
     ]
    }
   ],
   "source": [
    "# 列表的其他函数\n",
    "letters = ['a', 'g', 'f', 'b', 'c', 'd', 'e']\n",
    "sorted(letters)\n",
    "print(letters)\n",
    "letters.sort()\n",
    "print(letters)\n",
    "letters.reverse()\n",
    "print(letters)"
   ]
  },
  {
   "cell_type": "markdown",
   "metadata": {
    "colab_type": "text",
    "id": "65N3yUyFfqB5"
   },
   "source": [
    "# 元祖 Tuple"
   ]
  },
  {
   "cell_type": "code",
   "execution_count": 0,
   "metadata": {
    "colab": {
     "base_uri": "https://localhost:8080/",
     "height": 183
    },
    "colab_type": "code",
    "executionInfo": {
     "elapsed": 352,
     "status": "error",
     "timestamp": 1567705003381,
     "user": {
      "displayName": "Enoch Zheng",
      "photoUrl": "https://lh3.googleusercontent.com/a-/AAuE7mA7X97uI5sqYJ_AXshX-DouAmX17HIJK0XLP4CTPA=s64",
      "userId": "11058386346986323870"
     },
     "user_tz": 420
    },
    "id": "252F3DgcfpeU",
    "outputId": "c7761dad-480b-43b0-8adf-49e7a9d5c6f0"
   },
   "outputs": [
    {
     "ename": "TypeError",
     "evalue": "ignored",
     "output_type": "error",
     "traceback": [
      "\u001b[0;31m---------------------------------------------------------------------------\u001b[0m",
      "\u001b[0;31mTypeError\u001b[0m                                 Traceback (most recent call last)",
      "\u001b[0;32m<ipython-input-10-8fca9e2ef479>\u001b[0m in \u001b[0;36m<module>\u001b[0;34m()\u001b[0m\n\u001b[1;32m      1\u001b[0m \u001b[0mdimensions\u001b[0m \u001b[0;34m=\u001b[0m \u001b[0;34m(\u001b[0m\u001b[0;36m200\u001b[0m\u001b[0;34m,\u001b[0m \u001b[0;36m50\u001b[0m\u001b[0;34m)\u001b[0m\u001b[0;34m\u001b[0m\u001b[0;34m\u001b[0m\u001b[0m\n\u001b[0;32m----> 2\u001b[0;31m \u001b[0mdimensions\u001b[0m\u001b[0;34m[\u001b[0m\u001b[0;36m0\u001b[0m\u001b[0;34m]\u001b[0m \u001b[0;34m=\u001b[0m \u001b[0;36m250\u001b[0m\u001b[0;34m\u001b[0m\u001b[0;34m\u001b[0m\u001b[0m\n\u001b[0m",
      "\u001b[0;31mTypeError\u001b[0m: 'tuple' object does not support item assignment"
     ]
    }
   ],
   "source": [
    "# 元祖的创建\n",
    "dimensions = (200, 50)\n",
    "dimensions[0] = 250 "
   ]
  },
  {
   "cell_type": "code",
   "execution_count": 0,
   "metadata": {
    "colab": {
     "base_uri": "https://localhost:8080/",
     "height": 35
    },
    "colab_type": "code",
    "executionInfo": {
     "elapsed": 326,
     "status": "ok",
     "timestamp": 1567705037917,
     "user": {
      "displayName": "Enoch Zheng",
      "photoUrl": "https://lh3.googleusercontent.com/a-/AAuE7mA7X97uI5sqYJ_AXshX-DouAmX17HIJK0XLP4CTPA=s64",
      "userId": "11058386346986323870"
     },
     "user_tz": 420
    },
    "id": "3ezZAbO3gA7a",
    "outputId": "4af31b31-d130-4c73-89f2-46d826f1f206"
   },
   "outputs": [
    {
     "name": "stdout",
     "output_type": "stream",
     "text": [
      "(400, 10)\n"
     ]
    }
   ],
   "source": [
    "# 另外赋值\n",
    "dimensions = (400, 10)\n",
    "print(dimensions)"
   ]
  },
  {
   "cell_type": "code",
   "execution_count": 0,
   "metadata": {
    "colab": {
     "base_uri": "https://localhost:8080/",
     "height": 52
    },
    "colab_type": "code",
    "executionInfo": {
     "elapsed": 328,
     "status": "ok",
     "timestamp": 1567705144719,
     "user": {
      "displayName": "Enoch Zheng",
      "photoUrl": "https://lh3.googleusercontent.com/a-/AAuE7mA7X97uI5sqYJ_AXshX-DouAmX17HIJK0XLP4CTPA=s64",
      "userId": "11058386346986323870"
     },
     "user_tz": 420
    },
    "id": "i5UMW0smgYCN",
    "outputId": "6ec684ec-4217-40bd-f54b-3f43c2ea071c"
   },
   "outputs": [
    {
     "name": "stdout",
     "output_type": "stream",
     "text": [
      "400\n",
      "10\n"
     ]
    }
   ],
   "source": [
    "# 遍历 tuple 里的值\n",
    "for dimension in dimensions:\n",
    "  print(dimension)"
   ]
  },
  {
   "cell_type": "code",
   "execution_count": 0,
   "metadata": {
    "colab": {
     "base_uri": "https://localhost:8080/",
     "height": 217
    },
    "colab_type": "code",
    "executionInfo": {
     "elapsed": 401,
     "status": "error",
     "timestamp": 1567705257798,
     "user": {
      "displayName": "Enoch Zheng",
      "photoUrl": "https://lh3.googleusercontent.com/a-/AAuE7mA7X97uI5sqYJ_AXshX-DouAmX17HIJK0XLP4CTPA=s64",
      "userId": "11058386346986323870"
     },
     "user_tz": 420
    },
    "id": "lYTFhec1gp_D",
    "outputId": "fcf9b30d-a21f-4dfd-dcd1-63b5f2bebe76"
   },
   "outputs": [
    {
     "ename": "TypeError",
     "evalue": "ignored",
     "output_type": "error",
     "traceback": [
      "\u001b[0;31m---------------------------------------------------------------------------\u001b[0m",
      "\u001b[0;31mTypeError\u001b[0m                                 Traceback (most recent call last)",
      "\u001b[0;32m<ipython-input-17-3105fa469bd8>\u001b[0m in \u001b[0;36m<module>\u001b[0;34m()\u001b[0m\n\u001b[1;32m      1\u001b[0m \u001b[0mtup\u001b[0m \u001b[0;34m=\u001b[0m \u001b[0;34m(\u001b[0m\u001b[0;34m'Google'\u001b[0m\u001b[0;34m,\u001b[0m \u001b[0;34m'Facebook'\u001b[0m\u001b[0;34m,\u001b[0m \u001b[0;34m'Amazon'\u001b[0m\u001b[0;34m)\u001b[0m\u001b[0;34m\u001b[0m\u001b[0;34m\u001b[0m\u001b[0m\n\u001b[0;32m----> 2\u001b[0;31m \u001b[0;32mdel\u001b[0m \u001b[0mtup\u001b[0m\u001b[0;34m[\u001b[0m\u001b[0;36m0\u001b[0m\u001b[0;34m]\u001b[0m\u001b[0;34m\u001b[0m\u001b[0;34m\u001b[0m\u001b[0m\n\u001b[0m\u001b[1;32m      3\u001b[0m \u001b[0;32mdel\u001b[0m \u001b[0mtup\u001b[0m\u001b[0;34m\u001b[0m\u001b[0;34m\u001b[0m\u001b[0m\n\u001b[1;32m      4\u001b[0m \u001b[0mprint\u001b[0m\u001b[0;34m(\u001b[0m\u001b[0mtup\u001b[0m\u001b[0;34m)\u001b[0m\u001b[0;34m\u001b[0m\u001b[0;34m\u001b[0m\u001b[0m\n",
      "\u001b[0;31mTypeError\u001b[0m: 'tuple' object doesn't support item deletion"
     ]
    }
   ],
   "source": [
    "# 删除整个元祖\n",
    "tup = ('Google', 'Facebook', 'Amazon')\n",
    "del tup[0] \n",
    "del tup\n",
    "print(tup)"
   ]
  },
  {
   "cell_type": "code",
   "execution_count": 0,
   "metadata": {
    "colab": {
     "base_uri": "https://localhost:8080/",
     "height": 69
    },
    "colab_type": "code",
    "executionInfo": {
     "elapsed": 339,
     "status": "ok",
     "timestamp": 1567705688978,
     "user": {
      "displayName": "Enoch Zheng",
      "photoUrl": "https://lh3.googleusercontent.com/a-/AAuE7mA7X97uI5sqYJ_AXshX-DouAmX17HIJK0XLP4CTPA=s64",
      "userId": "11058386346986323870"
     },
     "user_tz": 420
    },
    "id": "_WuHVilig_pf",
    "outputId": "430e786c-623c-41da-a493-4c725b80f6bd"
   },
   "outputs": [
    {
     "name": "stdout",
     "output_type": "stream",
     "text": [
      "3\n",
      "5\n",
      "11\n"
     ]
    }
   ],
   "source": [
    "# 有用的内置函数\n",
    "numbers = (5, 9, 11)\n",
    "print(len(numbers))\n",
    "print(min(numbers))\n",
    "print(max(numbers))"
   ]
  },
  {
   "cell_type": "markdown",
   "metadata": {
    "colab_type": "text",
    "id": "TnnKme-_ioIJ"
   },
   "source": [
    "# 字典 Dictionary"
   ]
  },
  {
   "cell_type": "code",
   "execution_count": 0,
   "metadata": {
    "colab": {
     "base_uri": "https://localhost:8080/",
     "height": 69
    },
    "colab_type": "code",
    "executionInfo": {
     "elapsed": 431,
     "status": "ok",
     "timestamp": 1567705806922,
     "user": {
      "displayName": "Enoch Zheng",
      "photoUrl": "https://lh3.googleusercontent.com/a-/AAuE7mA7X97uI5sqYJ_AXshX-DouAmX17HIJK0XLP4CTPA=s64",
      "userId": "11058386346986323870"
     },
     "user_tz": 420
    },
    "id": "uVd0NpeJiDR4",
    "outputId": "bc6e667c-85a2-42b3-bdde-808c369adce8"
   },
   "outputs": [
    {
     "name": "stdout",
     "output_type": "stream",
     "text": [
      "male\n",
      "18\n",
      "{'gender': 'male', 'age': 18, 0: 'female'}\n"
     ]
    }
   ],
   "source": [
    "student1 = {'gender': 'male', 'age': 18}\n",
    "print(student1['gender'])\n",
    "print(student1['age'])\n",
    "student1[0] = 'female'\n",
    "print(student1)"
   ]
  },
  {
   "cell_type": "code",
   "execution_count": 0,
   "metadata": {
    "colab": {
     "base_uri": "https://localhost:8080/",
     "height": 35
    },
    "colab_type": "code",
    "executionInfo": {
     "elapsed": 317,
     "status": "ok",
     "timestamp": 1567705992725,
     "user": {
      "displayName": "Enoch Zheng",
      "photoUrl": "https://lh3.googleusercontent.com/a-/AAuE7mA7X97uI5sqYJ_AXshX-DouAmX17HIJK0XLP4CTPA=s64",
      "userId": "11058386346986323870"
     },
     "user_tz": 420
    },
    "id": "ZvlmeF5njGP8",
    "outputId": "e3129565-6eef-4ab5-deac-3cba9d7cad83"
   },
   "outputs": [
    {
     "name": "stdout",
     "output_type": "stream",
     "text": [
      "{'gender': 'male', 'age': 18, 0: 'female', 'grade': 12, 'name': 'Daniel'}\n"
     ]
    }
   ],
   "source": [
    "student1['grade'] = 12\n",
    "student1['name'] = 'Daniel'\n",
    "print(student1)"
   ]
  },
  {
   "cell_type": "code",
   "execution_count": 0,
   "metadata": {
    "colab": {
     "base_uri": "https://localhost:8080/",
     "height": 235
    },
    "colab_type": "code",
    "executionInfo": {
     "elapsed": 414,
     "status": "error",
     "timestamp": 1567705994112,
     "user": {
      "displayName": "Enoch Zheng",
      "photoUrl": "https://lh3.googleusercontent.com/a-/AAuE7mA7X97uI5sqYJ_AXshX-DouAmX17HIJK0XLP4CTPA=s64",
      "userId": "11058386346986323870"
     },
     "user_tz": 420
    },
    "id": "RRkbH1MBjg_s",
    "outputId": "2a19826b-c9d1-4cf8-93ee-27c3b92e5c97"
   },
   "outputs": [
    {
     "name": "stdout",
     "output_type": "stream",
     "text": [
      "{'gender': 'male', 'age': 18, 0: 'female', 'grade': 12}\n",
      "{}\n"
     ]
    },
    {
     "ename": "NameError",
     "evalue": "ignored",
     "output_type": "error",
     "traceback": [
      "\u001b[0;31m---------------------------------------------------------------------------\u001b[0m",
      "\u001b[0;31mNameError\u001b[0m                                 Traceback (most recent call last)",
      "\u001b[0;32m<ipython-input-39-f690a4066d23>\u001b[0m in \u001b[0;36m<module>\u001b[0;34m()\u001b[0m\n\u001b[1;32m      4\u001b[0m \u001b[0mprint\u001b[0m\u001b[0;34m(\u001b[0m\u001b[0mstudent1\u001b[0m\u001b[0;34m)\u001b[0m\u001b[0;34m\u001b[0m\u001b[0;34m\u001b[0m\u001b[0m\n\u001b[1;32m      5\u001b[0m \u001b[0;32mdel\u001b[0m \u001b[0mstudent1\u001b[0m\u001b[0;34m\u001b[0m\u001b[0;34m\u001b[0m\u001b[0m\n\u001b[0;32m----> 6\u001b[0;31m \u001b[0mprint\u001b[0m\u001b[0;34m(\u001b[0m\u001b[0mstudent1\u001b[0m\u001b[0;34m)\u001b[0m\u001b[0;34m\u001b[0m\u001b[0;34m\u001b[0m\u001b[0m\n\u001b[0m",
      "\u001b[0;31mNameError\u001b[0m: name 'student1' is not defined"
     ]
    }
   ],
   "source": [
    "del student1['name']\n",
    "print(student1)\n",
    "student1.clear()\n",
    "print(student1)\n",
    "del student1\n",
    "print(student1)"
   ]
  },
  {
   "cell_type": "markdown",
   "metadata": {
    "colab_type": "text",
    "id": "8XuA1F_zkmxr"
   },
   "source": [
    "## 遍历字典"
   ]
  },
  {
   "cell_type": "code",
   "execution_count": 0,
   "metadata": {
    "colab": {
     "base_uri": "https://localhost:8080/",
     "height": 328
    },
    "colab_type": "code",
    "executionInfo": {
     "elapsed": 325,
     "status": "ok",
     "timestamp": 1567706176996,
     "user": {
      "displayName": "Enoch Zheng",
      "photoUrl": "https://lh3.googleusercontent.com/a-/AAuE7mA7X97uI5sqYJ_AXshX-DouAmX17HIJK0XLP4CTPA=s64",
      "userId": "11058386346986323870"
     },
     "user_tz": 420
    },
    "id": "pSEsLFL_j-8_",
    "outputId": "561b27e4-0afd-4e2a-8e30-8fdc8b851864"
   },
   "outputs": [
    {
     "name": "stdout",
     "output_type": "stream",
     "text": [
      "\n",
      "Key: username\n",
      "Value: Alex\n",
      "\n",
      "Key: first\n",
      "Value: dada\n",
      "\n",
      "Key: last\n",
      "Value: wang\n",
      "username: Alex\n",
      "first: dada\n",
      "last: wang\n",
      "first\n",
      "last\n",
      "username\n",
      "Alex\n",
      "Dada\n",
      "Wang\n"
     ]
    }
   ],
   "source": [
    "# Looping through all key-value pairs\n",
    "user = {\n",
    "    'username': 'Alex',\n",
    "    'first': 'dada',\n",
    "    'last': 'wang',\n",
    "}\n",
    "\n",
    "for key, value in user.items():\n",
    "  print(f\"\\nKey: {key}\")\n",
    "  print(f\"Value: {value}\")\n",
    "\n",
    "# Looping through all the keys in a dictionary\n",
    "for key in user.keys():\n",
    "  print(key + \": \" + user.get(key))\n",
    "\n",
    "# Looping through a dictionary's keys in a pariticular order\n",
    "for key in sorted(user.keys()):\n",
    "  print(key)\n",
    "\n",
    "# Looping through all values in a dictionary\n",
    "for value in user.values():\n",
    "  print(value.title())"
   ]
  },
  {
   "cell_type": "markdown",
   "metadata": {
    "colab_type": "text",
    "id": "alyqWstSktYn"
   },
   "source": [
    "## 遍历 Nesting"
   ]
  },
  {
   "cell_type": "code",
   "execution_count": 0,
   "metadata": {
    "colab": {
     "base_uri": "https://localhost:8080/",
     "height": 104
    },
    "colab_type": "code",
    "executionInfo": {
     "elapsed": 322,
     "status": "ok",
     "timestamp": 1567706524881,
     "user": {
      "displayName": "Enoch Zheng",
      "photoUrl": "https://lh3.googleusercontent.com/a-/AAuE7mA7X97uI5sqYJ_AXshX-DouAmX17HIJK0XLP4CTPA=s64",
      "userId": "11058386346986323870"
     },
     "user_tz": 420
    },
    "id": "K7Uw4BM7kjxB",
    "outputId": "ee479cdf-7ca4-4cc3-ec02-37b7f6b35bb7"
   },
   "outputs": [
    {
     "name": "stdout",
     "output_type": "stream",
     "text": [
      "You ordered a thick-crust pizzawith the following toppings:\n",
      "\tmushrooms\n",
      "\textra cheese\n",
      "Enoch: Xiao Wang is 25 years old.\n",
      "Fandy: Wang Hong is 25 years old.\n"
     ]
    }
   ],
   "source": [
    "# A List in a Dictionary\n",
    "pizza = {\n",
    "    'crust': 'thick',\n",
    "    'toppings': ['mushrooms', 'extra cheese'],\n",
    "}\n",
    "\n",
    "print(f\"You ordered a {pizza['crust']}-crust pizza\"\n",
    "      \"with the following toppings:\")\n",
    "\n",
    "for topping in pizza['toppings']:\n",
    "  print(\"\\t\" + topping)\n",
    "\n",
    "# A Dictionary in a Dictionary\n",
    "users = {\n",
    "    'Enoch': {\n",
    "        'full_name': 'Xiao Wang',\n",
    "        'age': 25,\n",
    "    },\n",
    "    'Fandy': {\n",
    "        'full_name': 'Wang Hong',\n",
    "        'age': 25,\n",
    "    }\n",
    "}\n",
    "\n",
    "for name, information in users.items():\n",
    "  print(f\"{name}: {information['full_name']} is {information['age']} years old.\")"
   ]
  },
  {
   "cell_type": "markdown",
   "metadata": {
    "colab_type": "text",
    "id": "AgZ5aphOl5mQ"
   },
   "source": [
    "# 集合 Set"
   ]
  },
  {
   "cell_type": "code",
   "execution_count": 0,
   "metadata": {
    "colab": {
     "base_uri": "https://localhost:8080/",
     "height": 52
    },
    "colab_type": "code",
    "executionInfo": {
     "elapsed": 420,
     "status": "ok",
     "timestamp": 1567706639729,
     "user": {
      "displayName": "Enoch Zheng",
      "photoUrl": "https://lh3.googleusercontent.com/a-/AAuE7mA7X97uI5sqYJ_AXshX-DouAmX17HIJK0XLP4CTPA=s64",
      "userId": "11058386346986323870"
     },
     "user_tz": 420
    },
    "id": "LjsRonx_l4ZK",
    "outputId": "5979708f-5f27-4280-9392-410ca4bd7b60"
   },
   "outputs": [
    {
     "name": "stdout",
     "output_type": "stream",
     "text": [
      "{'blue', 'green', 'red'}\n",
      "True\n"
     ]
    }
   ],
   "source": [
    "colors = {'red', 'green', 'blue', 'red'}\n",
    "print(colors)\n",
    "print('red' in colors)"
   ]
  },
  {
   "cell_type": "code",
   "execution_count": 0,
   "metadata": {
    "colab": {
     "base_uri": "https://localhost:8080/",
     "height": 86
    },
    "colab_type": "code",
    "executionInfo": {
     "elapsed": 489,
     "status": "ok",
     "timestamp": 1567706664427,
     "user": {
      "displayName": "Enoch Zheng",
      "photoUrl": "https://lh3.googleusercontent.com/a-/AAuE7mA7X97uI5sqYJ_AXshX-DouAmX17HIJK0XLP4CTPA=s64",
      "userId": "11058386346986323870"
     },
     "user_tz": 420
    },
    "id": "T8XgbffYmTtr",
    "outputId": "040f1c81-7f8e-4ba8-b5c5-364ab71335af"
   },
   "outputs": [
    {
     "name": "stdout",
     "output_type": "stream",
     "text": [
      "{'b', 'd', 'r'}\n",
      "{'a', 'd', 'c', 'm', 'b', 'z', 'l', 'r'}\n",
      "{'a', 'c'}\n",
      "{'b', 'd', 'z', 'l', 'r', 'm'}\n"
     ]
    }
   ],
   "source": [
    "# 集合的运算\n",
    "a = set('abcdr')\n",
    "b = set('aclzm')\n",
    "print(a - b) # 集合a中包含而集合b中不包含的元素\n",
    "print(a | b) # 集合a或b中都包含的元素 \n",
    "print(a & b) # 集合a和b中都包含的元素\n",
    "print(a ^ b) # 不同时包含于a和b的元素"
   ]
  },
  {
   "cell_type": "code",
   "execution_count": 0,
   "metadata": {
    "colab": {
     "base_uri": "https://localhost:8080/",
     "height": 35
    },
    "colab_type": "code",
    "executionInfo": {
     "elapsed": 327,
     "status": "ok",
     "timestamp": 1567706725286,
     "user": {
      "displayName": "Enoch Zheng",
      "photoUrl": "https://lh3.googleusercontent.com/a-/AAuE7mA7X97uI5sqYJ_AXshX-DouAmX17HIJK0XLP4CTPA=s64",
      "userId": "11058386346986323870"
     },
     "user_tz": 420
    },
    "id": "vxlxy854mc4w",
    "outputId": "17393da9-a888-4a6c-c4a8-b4a69e74453c"
   },
   "outputs": [
    {
     "name": "stdout",
     "output_type": "stream",
     "text": [
      "{'Amazon', 'Facebook', 'Uber', 'Google'}\n"
     ]
    }
   ],
   "source": [
    "# 集合的添加函数\n",
    "companies = set((\"Google\", \"Facebook\", \"Amazon\"))\n",
    "companies.add(\"Uber\")\n",
    "print(companies)"
   ]
  },
  {
   "cell_type": "code",
   "execution_count": 0,
   "metadata": {
    "colab": {
     "base_uri": "https://localhost:8080/",
     "height": 35
    },
    "colab_type": "code",
    "executionInfo": {
     "elapsed": 614,
     "status": "ok",
     "timestamp": 1567706756056,
     "user": {
      "displayName": "Enoch Zheng",
      "photoUrl": "https://lh3.googleusercontent.com/a-/AAuE7mA7X97uI5sqYJ_AXshX-DouAmX17HIJK0XLP4CTPA=s64",
      "userId": "11058386346986323870"
     },
     "user_tz": 420
    },
    "id": "gleXfCDymmIL",
    "outputId": "a00d01f2-9cf6-4d4f-daa4-a0827655fb77"
   },
   "outputs": [
    {
     "name": "stdout",
     "output_type": "stream",
     "text": [
      "{1, 'Facebook', 3, 'Amazon', 'Google'}\n"
     ]
    }
   ],
   "source": [
    "# 添加函数 update\n",
    "new_set = set((\"Google\", \"Facebook\", \"Amazon\"))\n",
    "new_set.update({1, 3})\n",
    "print(new_set)\n",
    "new_set.update([1, 4], [5, 6])"
   ]
  },
  {
   "cell_type": "code",
   "execution_count": 4,
   "metadata": {
    "colab": {
     "base_uri": "https://localhost:8080/",
     "height": 183
    },
    "colab_type": "code",
    "executionInfo": {
     "elapsed": 23,
     "status": "error",
     "timestamp": 1567796559965,
     "user": {
      "displayName": "Enoch Zheng",
      "photoUrl": "https://lh3.googleusercontent.com/a-/AAuE7mA7X97uI5sqYJ_AXshX-DouAmX17HIJK0XLP4CTPA=s64",
      "userId": "11058386346986323870"
     },
     "user_tz": 420
    },
    "id": "ADQE3cwJmxUZ",
    "outputId": "5c83a6b3-c65b-459e-a371-eef2aefb6c6e"
   },
   "outputs": [
    {
     "ename": "KeyError",
     "evalue": "ignored",
     "output_type": "error",
     "traceback": [
      "\u001b[0;31m---------------------------------------------------------------------------\u001b[0m",
      "\u001b[0;31mKeyError\u001b[0m                                  Traceback (most recent call last)",
      "\u001b[0;32m<ipython-input-4-ca6f094017bf>\u001b[0m in \u001b[0;36m<module>\u001b[0;34m\u001b[0m\n\u001b[1;32m      1\u001b[0m \u001b[0mnew_set\u001b[0m \u001b[0;34m=\u001b[0m \u001b[0mset\u001b[0m\u001b[0;34m(\u001b[0m\u001b[0;34m(\u001b[0m\u001b[0;34m\"Google\"\u001b[0m\u001b[0;34m,\u001b[0m \u001b[0;34m\"Facebook\"\u001b[0m\u001b[0;34m,\u001b[0m \u001b[0;34m\"Amazon\"\u001b[0m\u001b[0;34m)\u001b[0m\u001b[0;34m)\u001b[0m\u001b[0;34m\u001b[0m\u001b[0;34m\u001b[0m\u001b[0m\n\u001b[0;32m----> 2\u001b[0;31m \u001b[0mnew_set\u001b[0m\u001b[0;34m.\u001b[0m\u001b[0mremove\u001b[0m\u001b[0;34m(\u001b[0m\u001b[0;34m\"Taobao\"\u001b[0m\u001b[0;34m)\u001b[0m\u001b[0;34m\u001b[0m\u001b[0;34m\u001b[0m\u001b[0m\n\u001b[0m",
      "\u001b[0;31mKeyError\u001b[0m: 'Taobao'"
     ]
    }
   ],
   "source": [
    "new_set = set((\"Google\", \"Facebook\", \"Amazon\"))\n",
    "new_set.remove(\"Taobao\")"
   ]
  },
  {
   "cell_type": "code",
   "execution_count": 5,
   "metadata": {
    "colab": {
     "base_uri": "https://localhost:8080/",
     "height": 35
    },
    "colab_type": "code",
    "executionInfo": {
     "elapsed": 15,
     "status": "ok",
     "timestamp": 1567796565874,
     "user": {
      "displayName": "Enoch Zheng",
      "photoUrl": "https://lh3.googleusercontent.com/a-/AAuE7mA7X97uI5sqYJ_AXshX-DouAmX17HIJK0XLP4CTPA=s64",
      "userId": "11058386346986323870"
     },
     "user_tz": 420
    },
    "id": "-pmX0ARLm3p7",
    "outputId": "72abbe6a-8b61-4cd7-9726-424bc7d78218"
   },
   "outputs": [
    {
     "name": "stdout",
     "output_type": "stream",
     "text": [
      "{'Facebook', 'Amazon'}\n"
     ]
    }
   ],
   "source": [
    "new_set.discard(\"Google\")\n",
    "print(new_set)"
   ]
  },
  {
   "cell_type": "markdown",
   "metadata": {
    "colab_type": "text",
    "id": "zp3S8cPl5oer"
   },
   "source": [
    "# 小练习"
   ]
  },
  {
   "cell_type": "code",
   "execution_count": 1,
   "metadata": {
    "colab": {
     "base_uri": "https://localhost:8080/",
     "height": 69
    },
    "colab_type": "code",
    "executionInfo": {
     "elapsed": 25,
     "status": "ok",
     "timestamp": 1567796554771,
     "user": {
      "displayName": "Enoch Zheng",
      "photoUrl": "https://lh3.googleusercontent.com/a-/AAuE7mA7X97uI5sqYJ_AXshX-DouAmX17HIJK0XLP4CTPA=s64",
      "userId": "11058386346986323870"
     },
     "user_tz": 420
    },
    "id": "Gw3qnGso5vv-",
    "outputId": "a1e94e88-4f3b-4dc2-ce43-22c87e4c0c40"
   },
   "outputs": [
    {
     "name": "stdout",
     "output_type": "stream",
     "text": [
      "Enoch - name:Enoch, gender:male, age:18, grade:12\n",
      "Alice - name:Alice, gender:female, age:17, grade:11\n",
      "David - name:David, gender:male, age:15, grade:9\n"
     ]
    }
   ],
   "source": [
    "student1 = {'name': 'Enoch', 'gender': 'male', 'age': 18, 'grade': 12}\n",
    "student2 = {'name': 'Alice', 'gender': 'female', 'age': 17, 'grade': 11}\n",
    "student3 = {'name': 'David', 'gender': 'male', 'age': 15, 'grade': 9}\n",
    "students = [student1, student2, student3]\n",
    "for student in students:\n",
    "  print(f\"{student['name']} - name:{student['name']}, gender:{student['gender']}, age:{student['age']}, grade:{student['grade']}\")"
   ]
  },
  {
   "cell_type": "code",
   "execution_count": null,
   "metadata": {},
   "outputs": [],
   "source": []
  }
 ],
 "metadata": {
  "colab": {
   "collapsed_sections": [],
   "name": "data_collections.ipynb",
   "provenance": [],
   "toc_visible": true,
   "version": "0.3.2"
  },
  "kernelspec": {
   "display_name": "Python 3",
   "language": "python",
   "name": "python3"
  },
  "language_info": {
   "codemirror_mode": {
    "name": "ipython",
    "version": 3
   },
   "file_extension": ".py",
   "mimetype": "text/x-python",
   "name": "python",
   "nbconvert_exporter": "python",
   "pygments_lexer": "ipython3",
   "version": "3.7.2"
  }
 },
 "nbformat": 4,
 "nbformat_minor": 1
}
