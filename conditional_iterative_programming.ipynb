{
 "cells": [
  {
   "cell_type": "markdown",
   "metadata": {},
   "source": [
    "# if...else条件判断"
   ]
  },
  {
   "cell_type": "code",
   "execution_count": null,
   "metadata": {},
   "outputs": [],
   "source": [
    "age = 20\n",
    "adult = False\n",
    "if age >= 18:\n",
    "    adult = True\n",
    "\n",
    "if adult:\n",
    "    print(\"Here is the cigaratte.\")\n",
    "else:\n",
    "    print(\"You are not allowed to smoke!\")"
   ]
  },
  {
   "cell_type": "code",
   "execution_count": null,
   "metadata": {},
   "outputs": [],
   "source": [
    "# if...elif...else 格式\n",
    "if condition_1:\n",
    "    statement_block_1 # Execute if condition_1 is True\n",
    "elif condition_2:\n",
    "    statement_block_2 # Execute if condition_1 is False & condition_2 is True\n",
    "elif condition_3:\n",
    "    statement_block 3 # Execute if condition_3 is True and 1 & 2 are False\n",
    "else:\n",
    "    statement_block_3 # Execute if previous conditions are all Falser "
   ]
  },
  {
   "cell_type": "code",
   "execution_count": null,
   "metadata": {},
   "outputs": [],
   "source": [
    "age = 12 \n",
    "if age < 13:\n",
    "    print(\"child\")\n",
    "elif age >= 13 and age <= 18:\n",
    "    print(\"teenager\")\n",
    "else:\n",
    "    print(\"adult\")"
   ]
  },
  {
   "cell_type": "markdown",
   "metadata": {},
   "source": [
    "## 条件判断类型"
   ]
  },
  {
   "cell_type": "code",
   "execution_count": null,
   "metadata": {},
   "outputs": [],
   "source": [
    "# Boolean check\n",
    "game_over = True\n",
    "if game_over:\n",
    "    print('Game Over :(')\n",
    "    \n",
    "alive = False\n",
    "if alive: \n",
    "    print('Alive')\n",
    "else:\n",
    "    print('You died :(')"
   ]
  },
  {
   "cell_type": "code",
   "execution_count": null,
   "metadata": {},
   "outputs": [],
   "source": [
    "# Numerical comparisons\n",
    "age = 18\n",
    "print(age == 18)\n",
    "# <, >, <=, >=, ==, !=\n",
    "if age <= 21:\n",
    "    print('You can\\'t drink!')"
   ]
  },
  {
   "cell_type": "code",
   "execution_count": null,
   "metadata": {},
   "outputs": [],
   "source": [
    "# check for equality\n",
    "car ='bmw'\n",
    "print(car == 'bmw')\n",
    "print(car == 'audi')\n",
    "# checking for equality is case sensitive\n",
    "print(car == 'Bmw')\n",
    "print(car.upper() == 'BMW')\n",
    "# checking for inequality\n",
    "if car != 'audi':\n",
    "    print('I want an Audi')"
   ]
  },
  {
   "cell_type": "code",
   "execution_count": null,
   "metadata": {},
   "outputs": [],
   "source": [
    "# simple example use for and if\n",
    "cars = ['audi', 'bmw', 'subaru', 'toyota']\n",
    "for car in cars:\n",
    "    if car == 'bmw':\n",
    "        print(car.upper())\n",
    "    else:\n",
    "        print(car.title())\n",
    "\n",
    "# List checking\n",
    "cars = ['bmw', 'audi', 'toyota']\n",
    "if 'bmw' in cars:\n",
    "    print('I will buy the bmw')\n",
    "    \n",
    "programmers = ['enoch', 'fandy']\n",
    "new_programmer = 'alice'\n",
    "if new_programmer not in programmers:\n",
    "    print(f\"{new_programmer.title()} should also be hired\")"
   ]
  },
  {
   "cell_type": "code",
   "execution_count": null,
   "metadata": {},
   "outputs": [],
   "source": [
    "# Checking multiple conditoins\n",
    "age_1 = 22\n",
    "age_2 = 18\n",
    "if (age_1 >= 21) and (age_2 >= 21):\n",
    "    print('You can both drink.')\n",
    "else:\n",
    "    print('You can\\'t drink together.')\n",
    "\n",
    "# parentheses are not required\n",
    "if age_1 >= 21 or age_1 >= 21:\n",
    "    print('one of you can drink.')\n",
    "\n",
    "age_1 >= 21 and age_2 >= 21"
   ]
  },
  {
   "cell_type": "markdown",
   "metadata": {},
   "source": [
    "## if 嵌套"
   ]
  },
  {
   "cell_type": "code",
   "execution_count": null,
   "metadata": {},
   "outputs": [],
   "source": [
    "num = int(input(\"Please input an number: \"))\n",
    "if num % 2 == 0: \n",
    "    if num % 3 == 0:\n",
    "        print(\"Your input can be divisible by 2 and 3\")\n",
    "    else:\n",
    "        print(\"Your input can be divisible by 2, but cannot be divisible by 3.\")\n",
    "else:\n",
    "    if num % 3 == 0:\n",
    "        print(\"Your input can be divisible by 3, but cannot be divisible by 2.\")\n",
    "    else:\n",
    "        print(\"Your input can’t be divisible by both 2 and 3\")"
   ]
  },
  {
   "cell_type": "code",
   "execution_count": null,
   "metadata": {},
   "outputs": [],
   "source": [
    "height = 180\n",
    "result = \"tall\" if height >= 180 else 'short'\n",
    "print(result)"
   ]
  },
  {
   "cell_type": "markdown",
   "metadata": {},
   "source": [
    "# While 循环"
   ]
  },
  {
   "cell_type": "code",
   "execution_count": null,
   "metadata": {},
   "outputs": [],
   "source": [
    "while condition:\n",
    "    expressions"
   ]
  },
  {
   "cell_type": "code",
   "execution_count": null,
   "metadata": {},
   "outputs": [],
   "source": [
    "# 打印数字0~9\n",
    "num = 0 \n",
    "while num < 10:\n",
    "    print(num)\n",
    "    num = num + 1"
   ]
  },
  {
   "cell_type": "code",
   "execution_count": null,
   "metadata": {},
   "outputs": [],
   "source": [
    "a = range(10)\n",
    "while a:\n",
    "    print(a[a[-1]])\n",
    "    a = a[:len(a) - 1] # 使用切片操作去掉最后一个元素"
   ]
  },
  {
   "cell_type": "markdown",
   "metadata": {},
   "source": [
    "## 智能循环: break和continue"
   ]
  },
  {
   "cell_type": "code",
   "execution_count": null,
   "metadata": {},
   "outputs": [],
   "source": [
    "# Letting the user choose when to quit \n",
    "prompt = \"Enter 'quit' to end the program.\"\n",
    "message = \"\"\n",
    "while message != 'quit':\n",
    "  message = input(prompt)\n",
    "  print(message)"
   ]
  },
  {
   "cell_type": "code",
   "execution_count": null,
   "metadata": {},
   "outputs": [],
   "source": [
    "# Using a flag\n",
    "active = True\n",
    "while active:\n",
    "  message = input(prompt)\n",
    "  if message == 'quit':\n",
    "    active = False\n",
    "  else:\n",
    "    print(message)"
   ]
  },
  {
   "cell_type": "code",
   "execution_count": null,
   "metadata": {},
   "outputs": [],
   "source": [
    "# Using break to exit a loop\n",
    "while True:\n",
    "  city = input(prompt)\n",
    "  if city == 'quit':\n",
    "    break\n",
    "  else:\n",
    "    print(f\"I'd like to go to {city.title()}\")"
   ]
  },
  {
   "cell_type": "code",
   "execution_count": null,
   "metadata": {},
   "outputs": [],
   "source": [
    "# Using continue in a loop\n",
    "num = 0\n",
    "while num < 10:\n",
    "  num += 1\n",
    "  if num % 2 == 0:\n",
    "    continue\n",
    "  print(num)"
   ]
  },
  {
   "cell_type": "markdown",
   "metadata": {},
   "source": [
    "## 在数组和字典中使用while语句"
   ]
  },
  {
   "cell_type": "code",
   "execution_count": null,
   "metadata": {},
   "outputs": [],
   "source": [
    "friends = []\n",
    "prompt = \"Enter your friend's name: \"\n",
    "while True:\n",
    "  friend = input(prompt)\n",
    "  if (friend == 'q'):\n",
    "    break\n",
    "  friends.append(friend)\n",
    "\n",
    "print(friends)"
   ]
  },
  {
   "cell_type": "code",
   "execution_count": null,
   "metadata": {},
   "outputs": [],
   "source": [
    "# Moving items from one list to another\n",
    "unconfirmed_users = ['alice', 'brain', 'candace']\n",
    "confirmed_users = []\n",
    "while unconfirmed_users:\n",
    "  confirmed_users.append(unconfirmed_users.pop())\n",
    "\n",
    "for user in confirmed_users:\n",
    "  print(user)"
   ]
  },
  {
   "cell_type": "code",
   "execution_count": null,
   "metadata": {},
   "outputs": [],
   "source": [
    "# Removing all instances of specific values from a list \n",
    "pets = ['dog', 'cat', 'dog', 'cat', 'rabbit', 'cat']\n",
    "while 'cat' in pets:\n",
    "  pets.remove('cat')\n",
    "print(pets)"
   ]
  },
  {
   "cell_type": "markdown",
   "metadata": {},
   "source": [
    "# For 循环"
   ]
  },
  {
   "cell_type": "code",
   "execution_count": null,
   "metadata": {},
   "outputs": [],
   "source": [
    "for item in sequence:\n",
    "    expressions"
   ]
  },
  {
   "cell_type": "code",
   "execution_count": null,
   "metadata": {},
   "outputs": [],
   "source": [
    "list = [1, 2, 3, 4, 5, 6]\n",
    "for i in list:\n",
    "    print(i)\n",
    "\n",
    "# 内置的序列类型 list, tuple, dict, set 都能迭代\n",
    "tup = (\"Python\", 1991)\n",
    "for i in tup:\n",
    "    print(i)"
   ]
  },
  {
   "cell_type": "code",
   "execution_count": null,
   "metadata": {},
   "outputs": [],
   "source": [
    "# range(start, stop)\n",
    "for i in range(1, 10): \n",
    "    print(i)\n",
    "\n",
    "# range(stop) start from 0\n",
    "for i in range(10):\n",
    "    print(i)\n",
    "\n",
    "# range(start, stop, step)\n",
    "for i in range(0, 13, 5):\n",
    "    print(i)"
   ]
  },
  {
   "cell_type": "markdown",
   "metadata": {},
   "source": [
    "## Python中的迭代"
   ]
  },
  {
   "cell_type": "code",
   "execution_count": null,
   "metadata": {},
   "outputs": [],
   "source": [
    "# tuple\n",
    "tup = ('python', 'java', 'c++')\n",
    "for i in tup:\n",
    "    print(i)\n",
    "\n",
    "# dictionary\n",
    "dic = {'language': 'Python', 'version': '3.7.4'}\n",
    "for key in dic: # key是乱序的：输出和插入的顺序不同\n",
    "    print(key, dic[key])\n",
    "\n",
    "# set\n",
    "versions = set(['python2.7', 'python3.0', 'python3.7', 'python2.7'])\n",
    "for version in versions: \n",
    "    print(version) # 输出结果也不是按照输入的顺序"
   ]
  },
  {
   "cell_type": "code",
   "execution_count": null,
   "metadata": {},
   "outputs": [],
   "source": [
    "# define a Fib class\n",
    "class Fib(object):\n",
    "    def __init__(self, max):\n",
    "        self.max = max\n",
    "        self.n, self.a, self.b = 0, 0, 1\n",
    "\n",
    "    def __iter__(self):\n",
    "        return self\n",
    "\n",
    "    def __next__(self):\n",
    "        if self.n < self.max:\n",
    "            r = self.b\n",
    "            self.a, self.b = self.b, self.a + self.b\n",
    "            self.n = self.n + 1\n",
    "            return r\n",
    "        raise StopIteration()\n",
    "\n",
    "# using Fib object\n",
    "for i in Fib(5):\n",
    "    print(i)"
   ]
  },
  {
   "cell_type": "code",
   "execution_count": null,
   "metadata": {},
   "outputs": [],
   "source": [
    "def fib(max):\n",
    "    a, b = 0, 1\n",
    "    while max:\n",
    "        r = b\n",
    "        a, b = b, a+b\n",
    "        max -= 1\n",
    "        yield r\n",
    "\n",
    "# using generator\n",
    "for i in fib(5):\n",
    "    print(i)"
   ]
  }
 ],
 "metadata": {
  "kernelspec": {
   "display_name": "Python 3",
   "language": "python",
   "name": "python3"
  },
  "language_info": {
   "codemirror_mode": {
    "name": "ipython",
    "version": 3
   },
   "file_extension": ".py",
   "mimetype": "text/x-python",
   "name": "python",
   "nbconvert_exporter": "python",
   "pygments_lexer": "ipython3",
   "version": "3.7.4"
  }
 },
 "nbformat": 4,
 "nbformat_minor": 2
}
