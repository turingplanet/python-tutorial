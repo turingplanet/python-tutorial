{
 "cells": [
  {
   "cell_type": "markdown",
   "metadata": {},
   "source": [
    "# Basic"
   ]
  },
  {
   "cell_type": "markdown",
   "metadata": {},
   "source": [
    "## Define a function"
   ]
  },
  {
   "cell_type": "code",
   "execution_count": null,
   "metadata": {},
   "outputs": [],
   "source": [
    "def function_name(parameters):\n",
    "    expressions"
   ]
  },
  {
   "cell_type": "code",
   "execution_count": 3,
   "metadata": {},
   "outputs": [],
   "source": [
    "def myFunction():\n",
    "    a = 1 + 2\n",
    "    print(f\"sum is {a}\")\n",
    "\n",
    "myFunction()"
   ]
  },
  {
   "cell_type": "markdown",
   "metadata": {},
   "source": [
    "## Arguments"
   ]
  },
  {
   "cell_type": "code",
   "execution_count": 4,
   "metadata": {},
   "outputs": [
    {
     "name": "stdout",
     "output_type": "stream",
     "text": [
      "enoch is 25 years old.\n",
      "enoch is 23 years old.\n",
      "enoch is 26 years old.\n"
     ]
    }
   ],
   "source": [
    "# Positional Arguments\n",
    "def describe_person(name, age):\n",
    "    print(f'{name} is {age} years old.')\n",
    "describe_person('enoch', 25)\n",
    "\n",
    "# Multiple Function Calls\n",
    "describe_person('enoch', 23)\n",
    "describe_person('enoch', 26)\n",
    "\n",
    "# Order matters in positional arguments\n",
    "describe_person('enoch', 25)\n",
    "\n",
    "# Order doesn't matter if you specify keyword arguments\n",
    "describe_person(age=25, name='enoch')"
   ]
  },
  {
   "cell_type": "code",
   "execution_count": 5,
   "metadata": {},
   "outputs": [
    {
     "name": "stdout",
     "output_type": "stream",
     "text": [
      "doudou is a dog\n"
     ]
    }
   ],
   "source": [
    "# Default values\n",
    "def describe_pet(pet_name, animal_type='dog'):\n",
    "    print(f\"{pet_name} is a {animal_type}\")\n",
    "\n",
    "describe_pet(\"doudou\")\n",
    "describe_pet(\"duoduo\", 'cat')"
   ]
  },
  {
   "cell_type": "code",
   "execution_count": null,
   "metadata": {},
   "outputs": [],
   "source": [
    "fruits = [\"a\", \"b\", \"c\"]\n",
    "def myFun(food):\n",
    "    for x in food:\n",
    "        print(food)\n",
    "\n",
    "# Modifying a List in a Function\n",
    "def set_to_one(input):\n",
    "    for i in range(0, len(input)):\n",
    "    input[i] = 1\n",
    "\n",
    "number_list = [1, 2, 3, 4, 5]\n",
    "set_to_one(number_list)\n",
    "print(number_list)\n",
    "\n",
    "# Preventing a Function from modifying a list\n",
    "number_list2 = [1, 2, 3, 4, 5]\n",
    "set_to_one(number_list2[:])\n",
    "print(number_list2)"
   ]
  },
  {
   "cell_type": "code",
   "execution_count": null,
   "metadata": {},
   "outputs": [],
   "source": [
    "# Variadic function\n",
    "def report(name, *grades):\n",
    "    total_grade = 0\n",
    "    for grade in grades:\n",
    "        total_grade += grade\n",
    "    print(name, 'total grade is ', total_grade)\n",
    "\n",
    "report('Ben', 80, 90, 85)"
   ]
  },
  {
   "cell_type": "code",
   "execution_count": null,
   "metadata": {},
   "outputs": [],
   "source": [
    "# keyword argument\n",
    "def info(name, **kw):\n",
    "    print('name is', name)\n",
    "    for k,v in kw.items():\n",
    "        print(k, v)\n",
    "\n",
    "info('Mike', age=24, country='China', education='bachelor')"
   ]
  },
  {
   "cell_type": "markdown",
   "metadata": {},
   "source": [
    "## Return value"
   ]
  },
  {
   "cell_type": "code",
   "execution_count": null,
   "metadata": {},
   "outputs": [],
   "source": [
    "# Returning a simple value\n",
    "def get_formatted_name(first_name, last_name):\n",
    "    return f'{last_name.title()} {first_name.title()}'\n",
    "\n",
    "print(get_formatted_name('hao', 'zheng'))"
   ]
  },
  {
   "cell_type": "code",
   "execution_count": null,
   "metadata": {},
   "outputs": [],
   "source": [
    "# Making an argument optional\n",
    "def proposal(name, age):\n",
    "    if age >= 18:\n",
    "        return f'{name}, I want to marry you.'\n",
    "    else:\n",
    "        return f'{name}, I can\\'t marry you right now'\n",
    "\n",
    "print(proposal('Emily', 16))\n",
    "print(proposal('Emily', 20))"
   ]
  },
  {
   "cell_type": "code",
   "execution_count": null,
   "metadata": {},
   "outputs": [],
   "source": [
    "# Returning a dictionary\n",
    "def build_person(first_name, last_name):\n",
    "    person = {'first': first_name, 'last': last_name}\n",
    "    return person\n",
    "\n",
    "musician = build_person('hao', 'zheng')\n",
    "print(musician['first'] + ' ' + musician['last'])"
   ]
  },
  {
   "cell_type": "markdown",
   "metadata": {},
   "source": [
    "## Styling functions"
   ]
  },
  {
   "cell_type": "code",
   "execution_count": null,
   "metadata": {},
   "outputs": [],
   "source": [
    "def function_name(parameter_0, parameter_1='default value')\n",
    "function_name(value_0, parameter_1='value')"
   ]
  },
  {
   "cell_type": "code",
   "execution_count": null,
   "metadata": {},
   "outputs": [],
   "source": [
    "def function_name(\n",
    "    parameter_0, parameter_1, parameter_2,\n",
    "    parameter_3, parameter_4, parameter_5):\n",
    "    function body..."
   ]
  },
  {
   "cell_type": "markdown",
   "metadata": {},
   "source": [
    "# Advance"
   ]
  },
  {
   "cell_type": "markdown",
   "metadata": {},
   "source": [
    "## Global Variable"
   ]
  },
  {
   "cell_type": "code",
   "execution_count": null,
   "metadata": {},
   "outputs": [],
   "source": [
    "y = 2\n",
    "def fun():\n",
    "    x = 1\n",
    "    y = 1\n",
    "    print(x)\n",
    "\n",
    "print(y)\n",
    "print(x)"
   ]
  },
  {
   "cell_type": "code",
   "execution_count": null,
   "metadata": {},
   "outputs": [],
   "source": [
    "x = 2\n",
    "def fun()\n",
    "    global x\n",
    "    x = 1\n",
    "fun()\n",
    "print(x)"
   ]
  },
  {
   "cell_type": "markdown",
   "metadata": {},
   "source": [
    "## Storing your functions in modules"
   ]
  },
  {
   "cell_type": "code",
   "execution_count": null,
   "metadata": {},
   "outputs": [],
   "source": [
    "make_pizza(size, type):\n",
    "     print(f\"A {size} inch pizza with {type} is ready for you.\")"
   ]
  },
  {
   "cell_type": "code",
   "execution_count": null,
   "metadata": {},
   "outputs": [],
   "source": [
    "# Importing an Entire Module (pizza.py)\n",
    "import pizza\n",
    "pizza.make_pizza(16, 'pepperoni')\n",
    "\n",
    "# Using as to Give a Module an Alias\n",
    "import pizza as p\n",
    "p.make_pizza(16, 'cheese')\n",
    "\n",
    "# Importing Specific Functions\n",
    "from pizza import make_pizza\n",
    "make_pizza(16, 'cheese')\n",
    "\n",
    "# Using as to Give a Function an Alias\n",
    "from pizza import make_pizza as mp\n",
    "mp(16, 'cheese')\n",
    "\n",
    "# Importing All Functions in a Module\n",
    "from pizza import *\n",
    "make_pizza(16, 'green peppers')"
   ]
  },
  {
   "cell_type": "markdown",
   "metadata": {},
   "source": [
    "## Recursion function"
   ]
  },
  {
   "cell_type": "code",
   "execution_count": null,
   "metadata": {},
   "outputs": [],
   "source": [
    "def fact(n):\n",
    "    if n == 1:\n",
    "        return 1\n",
    "    return n * fact(n - 1)"
   ]
  },
  {
   "cell_type": "markdown",
   "metadata": {},
   "source": [
    "## Lambda function"
   ]
  },
  {
   "cell_type": "code",
   "execution_count": null,
   "metadata": {},
   "outputs": [],
   "source": [
    "x = lambda a, b, c: a + b + c\n",
    "print(x(5, 6, 2)) # 12"
   ]
  },
  {
   "cell_type": "code",
   "execution_count": null,
   "metadata": {},
   "outputs": [],
   "source": [
    "def myFun(n):\n",
    "    return lambda a: a * n\n",
    "myTripler = myFun(3)\n",
    "print(myTripler(11))"
   ]
  },
  {
   "cell_type": "markdown",
   "metadata": {},
   "source": [
    "## __name__ == '__main__'"
   ]
  },
  {
   "cell_type": "code",
   "execution_count": null,
   "metadata": {},
   "outputs": [],
   "source": [
    "if __name__ == '__main__':\n",
    "    # statements"
   ]
  },
  {
   "cell_type": "markdown",
   "metadata": {},
   "source": [
    "# Exercise"
   ]
  },
  {
   "cell_type": "markdown",
   "metadata": {},
   "source": [
    "创建三个列表 list1, list2, sum，创建一个函数能被list1，list2中的每个元素依次相加，存入sum列表中。比如list1 = [1, 2, 3], list2 = [3, 7, 9], 那运行创建的函数后，sum会变成[4, 9, 12]。（注意：如果两个列表长度不一样怎么办？）"
   ]
  },
  {
   "cell_type": "code",
   "execution_count": 20,
   "metadata": {},
   "outputs": [
    {
     "name": "stdout",
     "output_type": "stream",
     "text": [
      "[3, 6, 12, 15, 12, 48]\n"
     ]
    }
   ],
   "source": [
    "list1 = [1, 2, 3, 5]\n",
    "list2 = [2, 4, 9, 10, 12, 48]\n",
    "sum = []\n",
    "def myFun(list1, list2, sum):\n",
    "    shorterList, longerList = [], []\n",
    "    if len(list1) <= len(list2):\n",
    "        shorterList, longerList = list1, list2\n",
    "    else:\n",
    "        shorterList, longerList = list2, list1\n",
    "    for i in range(len(shorterList)):\n",
    "        sum.append(shorterList[i] + longerList[i])\n",
    "    for i in range(len(shorterList), len(longerList)):\n",
    "        sum.append(longerList[i])\n",
    "\n",
    "myFun(list1, list2, sum)\n",
    "print(sum)"
   ]
  }
 ],
 "metadata": {
  "kernelspec": {
   "display_name": "Python 3",
   "language": "python",
   "name": "python3"
  },
  "language_info": {
   "codemirror_mode": {
    "name": "ipython",
    "version": 3
   },
   "file_extension": ".py",
   "mimetype": "text/x-python",
   "name": "python",
   "nbconvert_exporter": "python",
   "pygments_lexer": "ipython3",
   "version": "3.7.4"
  }
 },
 "nbformat": 4,
 "nbformat_minor": 2
}
