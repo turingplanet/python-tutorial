{
 "cells": [
  {
   "cell_type": "code",
   "execution_count": 1,
   "metadata": {},
   "outputs": [],
   "source": [
    "# class\n",
    "class Person:\n",
    "    # attribute field\n",
    "    name = 'William'\n",
    "    # method\n",
    "    def greet(self):\n",
    "        print(\"Hello my name is \" + self.name)\n",
    "# Create an Object\n",
    "p1 = Person()"
   ]
  },
  {
   "cell_type": "code",
   "execution_count": 2,
   "metadata": {},
   "outputs": [
    {
     "name": "stdout",
     "output_type": "stream",
     "text": [
      "Hello my name is William\n"
     ]
    }
   ],
   "source": [
    "p1.greet()"
   ]
  },
  {
   "cell_type": "code",
   "execution_count": 7,
   "metadata": {},
   "outputs": [
    {
     "name": "stdout",
     "output_type": "stream",
     "text": [
      "Hello my name is Alice\n"
     ]
    }
   ],
   "source": [
    "class Person:\n",
    "    def __init__(self):\n",
    "        self.name = 'Alice'\n",
    "    def greet(self):\n",
    "        print(\"Hello my name is \" + self.name)\n",
    "p1 = Person()\n",
    "p1.greet()"
   ]
  },
  {
   "cell_type": "code",
   "execution_count": 8,
   "metadata": {},
   "outputs": [
    {
     "name": "stdout",
     "output_type": "stream",
     "text": [
      "Hi, my name is David\n"
     ]
    }
   ],
   "source": [
    "class Person:\n",
    "    def __init__(self, init_name):\n",
    "        self.name = init_name\n",
    "    def greet(self):\n",
    "        print(\"Hi, my name is \" + self.name)\n",
    "p1 = Person(\"David\")\n",
    "p1.greet()"
   ]
  },
  {
   "cell_type": "markdown",
   "metadata": {},
   "source": [
    "# 模块和PIP"
   ]
  },
  {
   "cell_type": "markdown",
   "metadata": {},
   "source": [
    "## PIP"
   ]
  },
  {
   "cell_type": "code",
   "execution_count": 3,
   "metadata": {},
   "outputs": [],
   "source": [
    "from PIL import Image, ImageFilter\n",
    "\n",
    "# Open an image\n",
    "im = Image.open('test.jpg')\n",
    "# Use bluring filter\n",
    "im2 = im.filter(ImageFilter.BLUR)\n",
    "im2.save('blur.jpg', 'jpeg')"
   ]
  },
  {
   "cell_type": "code",
   "execution_count": null,
   "metadata": {},
   "outputs": [],
   "source": []
  }
 ],
 "metadata": {
  "kernelspec": {
   "display_name": "Python 3",
   "language": "python",
   "name": "python3"
  },
  "language_info": {
   "codemirror_mode": {
    "name": "ipython",
    "version": 3
   },
   "file_extension": ".py",
   "mimetype": "text/x-python",
   "name": "python",
   "nbconvert_exporter": "python",
   "pygments_lexer": "ipython3",
   "version": "3.7.4"
  }
 },
 "nbformat": 4,
 "nbformat_minor": 2
}
