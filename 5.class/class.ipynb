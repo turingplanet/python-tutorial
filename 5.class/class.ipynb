{
 "cells": [
  {
   "cell_type": "markdown",
   "metadata": {},
   "source": [
    "# 类的基本概念和语法"
   ]
  },
  {
   "cell_type": "markdown",
   "metadata": {},
   "source": [
    "## 类和实例 (Class, Instance)"
   ]
  },
  {
   "cell_type": "code",
   "execution_count": 1,
   "metadata": {},
   "outputs": [
    {
     "name": "stdout",
     "output_type": "stream",
     "text": [
      "Hi, my name is William\n"
     ]
    }
   ],
   "source": [
    "# class\n",
    "class Person:\n",
    "    # attribute fields\n",
    "    name = 'William'\n",
    "    age = 45\n",
    "    # method\n",
    "    def greet(self):\n",
    "        print(\"Hi, my name is \" + self.name)\n",
    "# Create an Object\n",
    "p1 = Person()\n",
    "# Call the method\n",
    "p1.greet()"
   ]
  },
  {
   "cell_type": "code",
   "execution_count": null,
   "metadata": {},
   "outputs": [],
   "source": [
    "# Modify Object Properties\n",
    "p1.age = 40\n",
    "print(p1.age)\n",
    "\n",
    "# Delete Object Properties\n",
    "del p1.age\n",
    "\n",
    "# Delete Objects\n",
    "del p1\n",
    "print(p1.age)"
   ]
  },
  {
   "cell_type": "markdown",
   "metadata": {},
   "source": [
    "### __init__, self"
   ]
  },
  {
   "cell_type": "code",
   "execution_count": null,
   "metadata": {},
   "outputs": [],
   "source": [
    "class Person:\n",
    "    def __init__(self):\n",
    "        self.name = 'Alice'\n",
    "    def greet(self):\n",
    "        print(\"Hi, my name is \" + self.name)\n",
    "p1 = Person()\n",
    "p1.greet()"
   ]
  },
  {
   "cell_type": "code",
   "execution_count": null,
   "metadata": {},
   "outputs": [],
   "source": [
    "class Person:\n",
    "    def __init__(self, init_name):\n",
    "        self.name = init_name\n",
    "    def greet(self):\n",
    "        print(\"Hi, my name is \" + self.name)\n",
    "p1 = Person(\"David\")\n",
    "p1.greet()"
   ]
  },
  {
   "cell_type": "markdown",
   "metadata": {},
   "source": [
    "## 继承和多态（Inheritance，Polymorphism)"
   ]
  },
  {
   "cell_type": "markdown",
   "metadata": {},
   "source": [
    "### 继承"
   ]
  },
  {
   "cell_type": "code",
   "execution_count": null,
   "metadata": {},
   "outputs": [],
   "source": [
    "class Animal():\n",
    "    def __init__(self, name):\n",
    "        self.name = name\n",
    "    def greet(self):\n",
    "        print('Hello, I am an %s.' % self.name)\n",
    "        \n",
    "class Dog():\n",
    "    def __init__(self, name):\n",
    "        self.name = name\n",
    "    def greet(self):\n",
    "        print('WangWang.., I am %s. ' % self.name)"
   ]
  },
  {
   "cell_type": "code",
   "execution_count": null,
   "metadata": {},
   "outputs": [],
   "source": [
    "class Dog(Animal):\n",
    "    def greet(self):\n",
    "        print('WangWang.., I am %s. ' % self.name)"
   ]
  },
  {
   "cell_type": "code",
   "execution_count": null,
   "metadata": {},
   "outputs": [],
   "source": [
    "animal = Animal('animal')\n",
    "animal.greet()\n",
    "dog = Dog('dog')\n",
    "dog.greet()"
   ]
  },
  {
   "cell_type": "code",
   "execution_count": null,
   "metadata": {},
   "outputs": [],
   "source": [
    "class Dog(Animal):\n",
    "    def greet(self):\n",
    "        print('WangWang.., I am %s. ' % self.name)\n",
    "    def run(self):\n",
    "        print('I am running!')\n",
    "\n",
    "dog = Dog('dog')\n",
    "dog.greet()"
   ]
  },
  {
   "cell_type": "markdown",
   "metadata": {},
   "source": [
    "### 多态 Polymorphism"
   ]
  },
  {
   "cell_type": "code",
   "execution_count": null,
   "metadata": {},
   "outputs": [],
   "source": [
    "class Animal():\n",
    "    def __init__(self, name):\n",
    "        self.name = name\n",
    "    def greet(self):\n",
    "        print(f'Hello, I am {self.name}.')\n",
    "\n",
    "class Dog(Animal):\n",
    "    def greet(self):\n",
    "        print(f'WangWang.., I am {self.name}.')\n",
    "\n",
    "class Cat(Animal):\n",
    "    def greet(self):\n",
    "        print(f'MiaoMiao.., I am {self.name}')\n",
    "\n",
    "def hello(animal):\n",
    "    animal.greet()"
   ]
  },
  {
   "cell_type": "code",
   "execution_count": null,
   "metadata": {},
   "outputs": [],
   "source": [
    "dog = Dog('dog')\n",
    "hello(dog)\n",
    "cat = Cat('cat');\n",
    "hello(cat)"
   ]
  },
  {
   "cell_type": "markdown",
   "metadata": {},
   "source": [
    "## Iterators"
   ]
  },
  {
   "cell_type": "code",
   "execution_count": 6,
   "metadata": {},
   "outputs": [
    {
     "name": "stdout",
     "output_type": "stream",
     "text": [
      "1\n",
      "1\n",
      "2\n",
      "3\n",
      "5\n",
      "8\n"
     ]
    }
   ],
   "source": [
    "class Fib():\n",
    "    def __init__(self):\n",
    "        self.a, self.b = 0, 1\n",
    "    def __iter__(self):\n",
    "        return self\n",
    "    def __next__(self):\n",
    "        self.a, self.b = self.b, self.a + self.b\n",
    "        return self.a\n",
    "\n",
    "fib = Fib()\n",
    "for i in fib:\n",
    "    if i > 10: \n",
    "         break\n",
    "    print(i)# 1, 1, 2, 3, 5, 8"
   ]
  },
  {
   "cell_type": "markdown",
   "metadata": {},
   "source": [
    "## 访问限制"
   ]
  },
  {
   "cell_type": "code",
   "execution_count": 7,
   "metadata": {},
   "outputs": [
    {
     "ename": "SyntaxError",
     "evalue": "Missing parentheses in call to 'print'. Did you mean print(f'Hello, I am self.__name.')? (<ipython-input-7-614ed3eafa39>, line 5)",
     "output_type": "error",
     "traceback": [
      "\u001b[0;36m  File \u001b[0;32m\"<ipython-input-7-614ed3eafa39>\"\u001b[0;36m, line \u001b[0;32m5\u001b[0m\n\u001b[0;31m    print f'Hello, I am self.__name.'\u001b[0m\n\u001b[0m                                    ^\u001b[0m\n\u001b[0;31mSyntaxError\u001b[0m\u001b[0;31m:\u001b[0m Missing parentheses in call to 'print'. Did you mean print(f'Hello, I am self.__name.')?\n"
     ]
    }
   ],
   "source": [
    "class Animal():\n",
    "    def __init__(self, name):\n",
    "        self.__name = name\n",
    "    def greet(self):\n",
    "        print f'Hello, I am self.__name.' \n",
    "\n",
    "animal = Animal('a1')\n",
    "animal.__name # error"
   ]
  },
  {
   "cell_type": "markdown",
   "metadata": {},
   "source": [
    "# 模块（Module）"
   ]
  },
  {
   "cell_type": "markdown",
   "metadata": {},
   "source": [
    "## 模块调用"
   ]
  },
  {
   "cell_type": "code",
   "execution_count": 15,
   "metadata": {},
   "outputs": [],
   "source": [
    "# animal.py\n",
    "class Animal():\n",
    "    def __init__(self, name):\n",
    "        self.name = name\n",
    "    def greet(self):\n",
    "        print(f'Hello, I am {self.name}.')\n",
    "\n",
    "class Dog(Animal):\n",
    "    def greet(self):\n",
    "        print(f'WangWang.., I am {self.name}.') \n",
    "\n",
    "class Cat(Animal):\n",
    "    def greet(self):\n",
    "        print(f'MiaoMiao.., I am {self.name}')"
   ]
  },
  {
   "cell_type": "code",
   "execution_count": 19,
   "metadata": {},
   "outputs": [
    {
     "name": "stdout",
     "output_type": "stream",
     "text": [
      "Hello, I am animal.\n"
     ]
    }
   ],
   "source": [
    "from animal import Animal\n",
    "animal = Animal('animal')\n",
    "animal.greet()"
   ]
  },
  {
   "cell_type": "code",
   "execution_count": 21,
   "metadata": {},
   "outputs": [
    {
     "name": "stdout",
     "output_type": "stream",
     "text": [
      "WangWang.., I am duoduo.\n",
      "MiaoMiao.., I am Kitty\n"
     ]
    }
   ],
   "source": [
    "from animal import Dog, Cat\n",
    "dog = Dog('duoduo')\n",
    "dog.greet()\n",
    "cat = Cat('Kitty')\n",
    "cat.greet()"
   ]
  },
  {
   "cell_type": "code",
   "execution_count": 22,
   "metadata": {},
   "outputs": [],
   "source": [
    "# importing an entire module\n",
    "import animal\n",
    "cat = animal.Cat('Kitty')\n",
    "\n",
    "# import all classes from a model\n",
    "from animal import *\n",
    "cat = Cat('Kitty')\n",
    "\n",
    "# Using Aliases \n",
    "from animal import Cat as C\n",
    "cat = C('Kitty')"
   ]
  },
  {
   "cell_type": "markdown",
   "metadata": {},
   "source": [
    "## Python标准库（Python Standard Library）"
   ]
  },
  {
   "cell_type": "code",
   "execution_count": 26,
   "metadata": {},
   "outputs": [
    {
     "name": "stdout",
     "output_type": "stream",
     "text": [
      "3\n",
      "charles\n"
     ]
    }
   ],
   "source": [
    "from random import randint, choice\n",
    "# Generate a random number between 1 and 6\n",
    "print(randint(1, 6))\n",
    "\n",
    "players = ['alice', 'david', 'charles', 'michael']\n",
    "# choose a randomly chosen element\n",
    "random_pick = choice(players)\n",
    "print(random_pick)"
   ]
  },
  {
   "cell_type": "markdown",
   "metadata": {},
   "source": [
    "## PIP"
   ]
  },
  {
   "cell_type": "code",
   "execution_count": null,
   "metadata": {},
   "outputs": [],
   "source": [
    "$ pip3 install pillow"
   ]
  },
  {
   "cell_type": "code",
   "execution_count": 27,
   "metadata": {},
   "outputs": [],
   "source": [
    "from PIL import Image, ImageFilter\n",
    "\n",
    "# Open an image\n",
    "im = Image.open('test.jpg')\n",
    "# Use bluring filter\n",
    "im2 = im.filter(ImageFilter.BLUR)\n",
    "im2.save('blur.jpg', 'jpeg')"
   ]
  },
  {
   "cell_type": "markdown",
   "metadata": {},
   "source": [
    "# 命名规范"
   ]
  },
  {
   "cell_type": "markdown",
   "metadata": {},
   "source": [
    "* 类名: 骆驼命名法（CamelCase）\n",
    "* 实例和模块: Snake case\n",
    "* 空行组织代码\n",
    "* 标准库 > 自己编写的库"
   ]
  },
  {
   "cell_type": "markdown",
   "metadata": {},
   "source": [
    "# 课后练习"
   ]
  },
  {
   "cell_type": "markdown",
   "metadata": {},
   "source": [
    "创建一个Car类，其中包含brand，model，year属性。这个类初始化的时候必须要传入品牌名字（比如Subaru），初始化的时候车的型号和生产年会被默认设定为’xxx’和0，Car类还有内置方法可以修改车型号和生产年，还有可以打印出完整车信息的方法。\n",
    "\n",
    "Car \n",
    "+ brand\n",
    "+ model\n",
    "+ year\n",
    "+ set_model()\n",
    "+ set_year()\n",
    "\n",
    "请根据要求定义出这个完整的类，并在另一个文件调用此类，创建一个实例，然后使用内置方法修改车的型号和生产年，最后使用类的方法打印出车的完整信息。"
   ]
  }
 ],
 "metadata": {
  "kernelspec": {
   "display_name": "Python 3",
   "language": "python",
   "name": "python3"
  },
  "language_info": {
   "codemirror_mode": {
    "name": "ipython",
    "version": 3
   },
   "file_extension": ".py",
   "mimetype": "text/x-python",
   "name": "python",
   "nbconvert_exporter": "python",
   "pygments_lexer": "ipython3",
   "version": "3.7.4"
  }
 },
 "nbformat": 4,
 "nbformat_minor": 2
}
